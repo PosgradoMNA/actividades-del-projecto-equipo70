{
  "nbformat": 4,
  "nbformat_minor": 0,
  "metadata": {
    "colab": {
      "provenance": [],
      "include_colab_link": true
    },
    "kernelspec": {
      "name": "python3",
      "display_name": "Python 3"
    },
    "language_info": {
      "name": "python"
    }
  },
  "cells": [
    {
      "cell_type": "markdown",
      "metadata": {
        "id": "view-in-github",
        "colab_type": "text"
      },
      "source": [
        "<a href=\"https://colab.research.google.com/github/PosgradoMNA/actividades-del-projecto-equipo70/blob/main/Actividad1_DeProyectoFinal_.ipynb\" target=\"_parent\"><img src=\"https://colab.research.google.com/assets/colab-badge.svg\" alt=\"Open In Colab\"/></a>"
      ]
    },
    {
      "cell_type": "markdown",
      "source": [
        "# Analíticos de refugios de animales\n",
        "\n",
        "\n",
        "---\n",
        "\n",
        "---\n",
        "\n",
        "\n",
        "\n",
        "Animal Shelter Analytics\n"
      ],
      "metadata": {
        "id": "-xicCUWXS0a8"
      }
    },
    {
      "cell_type": "markdown",
      "source": [
        "### Organización que generó el conjunto de datos"
      ],
      "metadata": {
        "id": "uR1mx5vYfxW8"
      }
    },
    {
      "cell_type": "markdown",
      "source": [
        "[Austin Animal Center](https://www.austintexas.gov/austin-animal-center)\n",
        "\n",
        "\n",
        "\n",
        "---\n",
        "\n",
        "El <ins>centro de animales de Austin</ins> es un refugio municipal para la ciudad de Austin. Aceptan animales que requieran de un refugio sin importar la edad, salud, especie o raza. \n",
        "\n",
        "Ubicado en 7201 Levander Loop Bldg. A\n",
        "Austin, TX 78702."
      ],
      "metadata": {
        "id": "ng1RdFGOf7NM"
      }
    },
    {
      "cell_type": "markdown",
      "source": [
        "### Enlace para descargar la base de datos\n",
        "\n",
        "\n",
        "---\n",
        "\n"
      ],
      "metadata": {
        "id": "LiajREeZjscc"
      }
    },
    {
      "cell_type": "markdown",
      "source": [
        "La base de datos cuenta con tres tablas. Se puede exportar en formato JSON, XML, CSV u otro formato que se requiera. Las tablas se pueden obtener en los siguientes enlaces.\n",
        "\n",
        "1. Intakes:   [Enlace](https://data.austintexas.gov/Health-and-Community-Services/Austin-Animal-Center-Intakes/wter-evkm)\n",
        "2. Outcomes:  [Enlace](https://data.austintexas.gov/Health-and-Community-Services/Austin-Animal-Center-Outcomes/9t4d-g238)\n",
        "3. Stray Map: [Enlace](https://data.austintexas.gov/Health-and-Community-Services/Austin-Animal-Center-Stray-Map/kz4x-q9k5)\n",
        "\n",
        "La base de datos fue encontrada en la página [Kaggle, Animal Shelter Analytics](https://www.kaggle.com/datasets/jackdaoud/animal-shelter-analytics)\n",
        "\n"
      ],
      "metadata": {
        "id": "RD8WtHUxj3Qu"
      }
    },
    {
      "cell_type": "markdown",
      "source": [
        "### ¿Qué datos contiene?\n",
        "\n",
        "\n",
        "---\n",
        "\n"
      ],
      "metadata": {
        "id": "vNkxelobnH1E"
      }
    },
    {
      "cell_type": "markdown",
      "source": [
        "Las tres tablas de la base de datos contiene los datos analíticos del refugio de animales de Austin. Las tablas tienen los datos del estado, identificación, localización, características de los animales que entran y salen del refugio; por ejemplo, nombre, salud, en qué lugar fueron encontrados y más. \n",
        "\n",
        "\n",
        "Las tablas contienen las siguientes columnas.\n",
        "\n",
        "**Intakes:**\n",
        "\n",
        "* Animal ID\t\n",
        "* Name\t\n",
        "* DateTime\n",
        "* MonthYear\t\n",
        "* Found Location\t\n",
        "* Intake Type\t\n",
        "* Intake Condition\t\n",
        "* Animal Type\t\n",
        "* Sex upon Intake\t\n",
        "* Age upon Intake\t\n",
        "* Breed\t\n",
        "* Color\n",
        "\n",
        "**Stray Map:**\n",
        "\n",
        "* Animal ID\t\n",
        "* Found Location\t\n",
        "* At AAC\t\n",
        "* Intake Date\t\n",
        "* Type\t\t\n",
        "* Looks Like\t\n",
        "* Color\n",
        "\n",
        "**Outcomes:**\n",
        "\n",
        "* Animal ID\n",
        "* Name\n",
        "* DateTime\t\n",
        "* MonthYear\t\n",
        "* Date of Birth\t\n",
        "* Outcome Type\t\n",
        "* Outcome Subtype\n",
        "\n",
        "\n",
        "\n",
        "Las tablas tienen un aproximado de 144k filas. \n"
      ],
      "metadata": {
        "id": "me01kovEnU-2"
      }
    },
    {
      "cell_type": "markdown",
      "source": [
        "### Preguntas de investigación\n",
        "\n",
        "\n",
        "\n",
        "---\n",
        "\n"
      ],
      "metadata": {
        "id": "0N1H1xBrr3la"
      }
    },
    {
      "cell_type": "markdown",
      "source": [
        "<ins>¿Cuáles son algunas de las preguntas de investigación que podría responder con estos datos?</ins>\n",
        "\n",
        "1. ¿Qué tipo de raza entra/sale maś al refugio?\n",
        "2. ¿A qué edad es más probable que un animal entre/salga a un refugio?\n",
        "3. ¿En qué condiciones entran más seguido al refugio?\n",
        "4. ¿En qué lugar se encuentran más seguido los animales abandonados?\n",
        "5. ¿Cuánto es el tiempo promedio de estadía en el refugio?\n",
        "6. ¿Qué animal entra más al refugio?\n",
        "7. ¿En qué fechas entran más al refugio?\n",
        "8. ¿Qué animal se adopta más?\n",
        "9. ¿Qué raza se adopta más?\n",
        "10. ¿Cómo afecta el clima/estación del año en la adoptión?\n",
        "11. ¿En que clima/estación del año se rescatan más animales?\n",
        "12. ¿Se adoptan más animales esterilizados/castrados?\n",
        "13. ¿En qué localidad se encuentran más animales esterilizados/castrados?\n",
        "14. ¿Cuál es el género (sexo) del ánimal que más se adopta?\n",
        "\n",
        "\n",
        "\n"
      ],
      "metadata": {
        "id": "SV9y3wkDTJDk"
      }
    },
    {
      "cell_type": "markdown",
      "source": [
        "### Interés en los datos analíticos\n",
        "\n",
        "\n",
        "\n",
        "---\n"
      ],
      "metadata": {
        "id": "Y3UYCszxsxXo"
      }
    },
    {
      "cell_type": "markdown",
      "source": [
        "<ins>¿Qué actor (empresa, sector de la sociedad, organismo descentralizado, gobierno, etc.) estaría interesado en las preguntas mencionadas?</ins>\n",
        "\n",
        "\n",
        "Actores:\n",
        "* Leonardo DiCaprio, Miley Cyrus, Cara Delevinge, Ellen Degeneres, Joaquín Phoenix, Pamela Anderson, Natalie Portman, Ryan Gosling, Tom Hardy.\n",
        "\n",
        "Organizaciones gubernamentales:\n",
        "* SECRETARIA DEL MEDIO AMBIENTE Y RECURSOS NATURALES (SEMARNAT)\n",
        "* COMISIÓN NACIONAL PARA EL CONOCIMIENTO Y USO DE LA BIODIVERSIDAD (CONABIO)\n",
        "* INSTITUTO NACIONAL DE ESTADÍSTICA Y GEOGRAFÍA (INEGI)\n",
        "\n",
        "Sector de la sociedad:\n",
        "\n",
        "* El abandono de mascotas es un problema de maltrato animal, salubridad que es importante de atender. Es importante tener más regulaciones para la adopción de mascotas. Lo que se pretende con el análisis de este data set, es demostrar con datos zonas de alto abandono, razas que entran más seguido al refugio, edad que salen del refugio y más. En orden de tener la data para demostrar el problema del abandono animal. \n",
        "\n",
        "\n",
        "\n",
        "\n",
        "\n"
      ],
      "metadata": {
        "id": "reIDkGR1tBYg"
      }
    }
  ]
}