{
  "nbformat": 4,
  "nbformat_minor": 0,
  "metadata": {
    "colab": {
      "provenance": [],
      "authorship_tag": "ABX9TyNJayRKXH56IO1aq5a+V2Uk",
      "include_colab_link": true
    },
    "kernelspec": {
      "name": "python3",
      "display_name": "Python 3"
    },
    "language_info": {
      "name": "python"
    }
  },
  "cells": [
    {
      "cell_type": "markdown",
      "metadata": {
        "id": "view-in-github",
        "colab_type": "text"
      },
      "source": [
        "<a href=\"https://colab.research.google.com/github/PosgradoMNA/actividades-del-projecto-equipo70/blob/main/Actividad1_DeProyectoFinal_.ipynb\" target=\"_parent\"><img src=\"https://colab.research.google.com/assets/colab-badge.svg\" alt=\"Open In Colab\"/></a>"
      ]
    },
    {
      "cell_type": "markdown",
      "source": [
        "# Analíticos de refugios de animales\n",
        "\n",
        "\n",
        "---\n",
        "\n",
        "Animal Shelter Analytics\n"
      ],
      "metadata": {
        "id": "-xicCUWXS0a8"
      }
    },
    {
      "cell_type": "markdown",
      "source": [
        "Organización.\n",
        "\n",
        "[Austin Animal Center](https://www.austintexas.gov/austin-animal-center)\n",
        "\n",
        "Para descargar la base de datos\n",
        "\n",
        "[Se puede descargar aquí](https://data.austintexas.gov/Health-and-Community-Services/Austin-Animal-Center-Intakes/wter-evkm\n",
        ")\n",
        "\n",
        "Describe el conjunto de datos. ¿Qué datos contiene?\n",
        "\n",
        "Representa el estado de los animales que llegan al refugio de Animal Center. Todos los animales reciben un ID durante su entrada. Contiene 12 columnas con las siguientes características. \n",
        "\n",
        "\n",
        "*   Animal ID\n",
        "*   Name\n",
        "*   DateTime\n",
        "*   MonthYear\n",
        "*   Found Location\n",
        "*   Intake Type\n",
        "*   Intake Condition\n",
        "*   Animal Type\n",
        "*   Sex upon Intake\n",
        "*   Age upon Intake\n",
        "*   Breed\n",
        "*   Color \n",
        "\n",
        "2 more data sets. \n",
        "\n",
        "Con un aproximado de filas: 144k\n",
        "\n",
        "Cuáles son algunas de las preguntas de investigación que podría responder con estos datos? Enumere al menos OCHO (no responda las preguntas).\n",
        "\n",
        "1. ¿Qué tipo de raza entra/sale maś al refugio?\n",
        "2. ¿A qué edad es más probable que un animal entre/salga a un refugio?\n",
        "3. ¿En qué condiciones entran más seguido al refugio?\n",
        "4. ¿En qué lugar se encuentran más seguido animales abandonados?\n",
        "5. ¿Cuánto es el tiempo promedio de estadía en el refugio?\n",
        "6. ¿Qué animal entra más al refugio?\n",
        "7. ¿En qué fechas entran más al refugio?\n",
        "8. ¿Qué animal se adopta más?\n",
        "9. ¿Qué raza se adopta más?\n",
        "10. \n",
        "\n",
        "\n",
        "¿Qué actor (empresa, sector de la sociedad, organismo descentralizado, gobierno, etc.) estaría interesado en las preguntas mencionadas que identificó?\n",
        "\n",
        "* El abandono de mascotas es un problema de salubridad. \n",
        "\n",
        "* Maltrato animal. \n",
        "* Más regulaciones en adopción. \n",
        "* Zonas de alto ínidice de abandono.\n",
        "* Evitar medidas extremas. \n",
        "\n",
        "\n",
        "\n",
        "\n",
        "\n",
        "\n",
        "\n",
        "\n",
        "\n",
        "\n",
        "\n",
        "\n",
        "\n",
        "\n"
      ],
      "metadata": {
        "id": "SV9y3wkDTJDk"
      }
    }
  ]
}