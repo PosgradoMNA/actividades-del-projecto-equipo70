{
  "nbformat": 4,
  "nbformat_minor": 0,
  "metadata": {
    "colab": {
      "provenance": [],
      "authorship_tag": "ABX9TyMl94txAXTJVonDfHKJTO8R",
      "include_colab_link": true
    },
    "kernelspec": {
      "name": "python3",
      "display_name": "Python 3"
    },
    "language_info": {
      "name": "python"
    }
  },
  "cells": [
    {
      "cell_type": "markdown",
      "metadata": {
        "id": "view-in-github",
        "colab_type": "text"
      },
      "source": [
        "<a href=\"https://colab.research.google.com/github/PosgradoMNA/actividades-del-projecto-equipo70/blob/main/Actividad1_DeProyectoFinal_.ipynb\" target=\"_parent\"><img src=\"https://colab.research.google.com/assets/colab-badge.svg\" alt=\"Open In Colab\"/></a>"
      ]
    },
    {
      "cell_type": "markdown",
      "source": [
        "# Analíticos de refugios de animales\n",
        "\n",
        "\n",
        "---\n",
        "\n",
        "Animal Shelter Analytics\n"
      ],
      "metadata": {
        "id": "-xicCUWXS0a8"
      }
    },
    {
      "cell_type": "markdown",
      "source": [
        "Organización.\n",
        "\n",
        "[Austin Animal Center](https://www.austintexas.gov/austin-animal-center)\n",
        "\n",
        "Para descargar la base de datos\n",
        "\n",
        "[Se puede descargar aquí](https://data.austintexas.gov/Health-and-Community-Services/Austin-Animal-Center-Intakes/wter-evkm\n",
        ")\n",
        "\n",
        "Describe el conjunto de datos. ¿Qué datos contiene?\n",
        "\n",
        "Representa el estado de los animales que llegan al refugio de Animal Center. Todos los animales reciben un ID durante su entrada. Contiene 12 columnas con las siguientes características. \n",
        "\n",
        "\n",
        "*   Animal ID\n",
        "*   Name\n",
        "*   DateTime\n",
        "*   MonthYear\n",
        "*   Found Location\n",
        "*   Intake Type\n",
        "*   Intake Condition\n",
        "*   Animal Type\n",
        "*   Sex upon Intake\n",
        "*   Age upon Intake\n",
        "*   Breed\n",
        "*   Color \n",
        "\n",
        "\n",
        "Con un aproximado de filas: 144k\n",
        "\n",
        "\n",
        "\n",
        "\n",
        "\n",
        "\n",
        "\n",
        "\n",
        "\n",
        "\n",
        "\n",
        "\n"
      ],
      "metadata": {
        "id": "SV9y3wkDTJDk"
      }
    }
  ]
}