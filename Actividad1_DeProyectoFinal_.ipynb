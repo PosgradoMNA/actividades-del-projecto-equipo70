{
  "nbformat": 4,
  "nbformat_minor": 0,
  "metadata": {
    "colab": {
      "provenance": [],
      "include_colab_link": true
    },
    "kernelspec": {
      "name": "python3",
      "display_name": "Python 3"
    },
    "language_info": {
      "name": "python"
    }
  },
  "cells": [
    {
      "cell_type": "markdown",
      "metadata": {
        "id": "view-in-github",
        "colab_type": "text"
      },
      "source": [
        "<a href=\"https://colab.research.google.com/github/PosgradoMNA/actividades-del-projecto-equipo70/blob/main/Actividad1_DeProyectoFinal_.ipynb\" target=\"_parent\"><img src=\"https://colab.research.google.com/assets/colab-badge.svg\" alt=\"Open In Colab\"/></a>"
      ]
    },
    {
      "cell_type": "markdown",
      "source": [
        "# Analíticos de refugios de animales\n",
        "\n",
        "\n",
        "---\n",
        "\n",
        "Animal Shelter Analytics\n"
      ],
      "metadata": {
        "id": "-xicCUWXS0a8"
      }
    },
    {
      "cell_type": "markdown",
      "source": [
        "### Organización que generó el conjunto de datos"
      ],
      "metadata": {
        "id": "uR1mx5vYfxW8"
      }
    },
    {
      "cell_type": "markdown",
      "source": [
        "[Austin Animal Center](https://www.austintexas.gov/austin-animal-center)\n",
        "\n",
        "\n",
        "\n",
        "---\n",
        "\n",
        "El <ins>centro de animales de Austin</ins> es un refugio municipal para la ciudad de Austin. Aceptan animales que requieran de un refugio sin importar la edad, salud, especie o raza. \n",
        "\n",
        "Ubicado en 7201 Levander Loop Bldg. A\n",
        "Austin, TX 78702."
      ],
      "metadata": {
        "id": "ng1RdFGOf7NM"
      }
    },
    {
      "cell_type": "markdown",
      "source": [
        "### Enlace para descargar la base de datos\n",
        "\n",
        "\n",
        "---\n",
        "\n"
      ],
      "metadata": {
        "id": "LiajREeZjscc"
      }
    },
    {
      "cell_type": "markdown",
      "source": [
        "La base de datos cuenta con tres tablas. Se puede exportar en formato JSON, XML, CSV u otro formato que se requiera. Las tablas se pueden obtener en los siguientes enlaces.\n",
        "\n",
        "1. Intakes:   [Enlace](https://data.austintexas.gov/Health-and-Community-Services/Austin-Animal-Center-Intakes/wter-evkm)\n",
        "2. Outcomes:  [Enlace](https://data.austintexas.gov/Health-and-Community-Services/Austin-Animal-Center-Outcomes/9t4d-g238)\n",
        "3. Stray Map: [Enlace](https://data.austintexas.gov/Health-and-Community-Services/Austin-Animal-Center-Stray-Map/kz4x-q9k5)\n",
        "\n",
        "La base de datos fue encontrada en la página [Kaggle, Animal Shelter Analytics](https://www.kaggle.com/datasets/jackdaoud/animal-shelter-analytics)\n",
        "\n"
      ],
      "metadata": {
        "id": "RD8WtHUxj3Qu"
      }
    },
    {
      "cell_type": "markdown",
      "source": [
        "### ¿Qué datos contiene?\n",
        "\n",
        "\n",
        "---\n",
        "\n"
      ],
      "metadata": {
        "id": "vNkxelobnH1E"
      }
    },
    {
      "cell_type": "markdown",
      "source": [
        "La tres tablas de la base de datos contiene los datos analíticos del refugio de animales de Austin. Las tablas tienen los datos del estado de los animales que llegan al refugio, por ejemplo:\n",
        "\n",
        "\n",
        "\n",
        "* \n",
        "*   List item\n",
        "*\n",
        "*\n",
        "*\n",
        "*\n",
        "\n",
        "\n",
        "\n",
        ". Todos los animales reciben un ID durante su entrada. Contiene 12 columnas con las siguientes características. \n",
        "\n",
        "\n",
        "*   Animal ID\n",
        "*   Name\n",
        "*   DateTime\n",
        "*   MonthYear\n",
        "*   Found Location\n",
        "*   Intake Type\n",
        "*   Intake Condition\n",
        "*   Animal Type\n",
        "*   Sex upon Intake\n",
        "*   Age upon Intake\n",
        "*   Breed\n",
        "*   Color \n",
        "\n",
        "2 more data sets. \n",
        "\n",
        "Con un aproximado de filas: 144k\n"
      ],
      "metadata": {
        "id": "me01kovEnU-2"
      }
    },
    {
      "cell_type": "markdown",
      "source": [
        "\n",
        "\n",
        "Cuáles son algunas de las preguntas de investigación que podría responder con estos datos? Enumere al menos OCHO (no responda las preguntas).\n",
        "\n",
        "1. ¿Qué tipo de raza entra/sale maś al refugio?\n",
        "2. ¿A qué edad es más probable que un animal entre/salga a un refugio?\n",
        "3. ¿En qué condiciones entran más seguido al refugio?\n",
        "4. ¿En qué lugar se encuentran más seguido animales abandonados?\n",
        "5. ¿Cuánto es el tiempo promedio de estadía en el refugio?\n",
        "6. ¿Qué animal entra más al refugio?\n",
        "7. ¿En qué fechas entran más al refugio?\n",
        "8. ¿Qué animal se adopta más?\n",
        "9. ¿Qué raza se adopta más?\n",
        "10. ¿Cómo afecta el clima/estación del año en la adoptión?\n",
        "11. ¿En que clima/estación del año se rescatan más animales?\n",
        "12. ¿Se adoptan más animales esterilizados/castrados?\n",
        "13. ¿En qué localidad se encuentran más animales esterilizados/castrados?\n",
        "14. ¿Cuál es el género (sexo) del ánimal que más se adopta?\n",
        "\n",
        "\n",
        "¿Qué actor (empresa, sector de la sociedad, organismo descentralizado, gobierno, etc.) estaría interesado en las preguntas mencionadas que identificó?\n",
        "\n",
        "Actores:\n",
        "* Leonardo DiCaprio, Miley Cyrus, Cara Delevinge, Ellen Degeneres, Joaquín Phoenix, Pamela Anderson, Natalie Portman, Ryan Gosling, Tom Hardy.\n",
        "\n",
        "Organizaciones gubernamentales:\n",
        "* SECRETARIA DEL MEDIO AMBIENTE Y RECURSOS NATURALES (SEMARNAT)\n",
        "* COMISIÓN NACIONAL PARA EL CONOCIMIENTO Y USO DE LA BIODIVERSIDAD (CONABIO)\n",
        "* INSTITUTO NACIONAL DE ESTADÍSTICA Y GEOGRAFÍA (INEGI)\n",
        "\n",
        "\n",
        "\n",
        "\n",
        "* El abandono de mascotas es un problema de salubridad. \n",
        "\n",
        "* Maltrato animal. \n",
        "* Más regulaciones en adopción. \n",
        "* Zonas de alto ínidice de abandono.\n",
        "* Evitar medidas extremas. \n",
        "\n",
        "\n",
        "\n",
        "\n",
        "\n",
        "\n",
        "\n",
        "\n",
        "\n",
        "\n",
        "\n",
        "\n",
        "\n",
        "\n"
      ],
      "metadata": {
        "id": "SV9y3wkDTJDk"
      }
    }
  ]
}