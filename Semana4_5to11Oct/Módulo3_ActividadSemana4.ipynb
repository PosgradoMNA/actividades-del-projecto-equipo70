{
  "nbformat": 4,
  "nbformat_minor": 0,
  "metadata": {
    "colab": {
      "provenance": [],
      "authorship_tag": "ABX9TyOTeflYT9xs221FegseFB5M",
      "include_colab_link": true
    },
    "kernelspec": {
      "name": "python3",
      "display_name": "Python 3"
    },
    "language_info": {
      "name": "python"
    }
  },
  "cells": [
    {
      "cell_type": "markdown",
      "metadata": {
        "id": "view-in-github",
        "colab_type": "text"
      },
      "source": [
        "<a href=\"https://colab.research.google.com/github/PosgradoMNA/actividades-del-projecto-equipo70/blob/main/M%C3%B3dulo3_ActividadSemana4.ipynb\" target=\"_parent\"><img src=\"https://colab.research.google.com/assets/colab-badge.svg\" alt=\"Open In Colab\"/></a>"
      ]
    },
    {
      "cell_type": "markdown",
      "source": [
        "## Instituto Tecnológico y de Estudios Superiores de Monterrey\n",
        "## Maestría en Inteligencia Artificial Aplicada\n",
        "### **Módulo 3 - Actividad de Semana 4**\n",
        "\n",
        "---"
      ],
      "metadata": {
        "id": "J6hiXol83FRG"
      }
    },
    {
      "cell_type": "markdown",
      "source": [
        "## Datos generales\n",
        "---\n",
        "> Nombre de la entrega: **Módulo 3 - Actividad de Semana 4**\n",
        "---\n",
        "* Equipo 70 - Integrantes: \n",
        "\n",
        "  * Javier Pérez Sanagustín\n",
        "  * Herbert Joadan Romero Villarreal\n",
        "\n",
        "* Matrículas: \n",
        "\n",
        "  * A01794233\n",
        "  * A01794199\n",
        "\n",
        "* Materia: Ciencia y analítica de datos (Gpo 10)\n",
        "\n",
        "* Profesor titular: Jobish Vallikavungal\n",
        "\n",
        "* Profesor tutor: Bernardo Charles Canales\n",
        "\n",
        "* Fecha: 11 de octubre de 2022\n",
        "\n",
        "\n",
        "\n"
      ],
      "metadata": {
        "id": "JevOxVH63WOa"
      }
    },
    {
      "cell_type": "code",
      "execution_count": null,
      "metadata": {
        "id": "1vyUZEum3E05"
      },
      "outputs": [],
      "source": []
    }
  ]
}
