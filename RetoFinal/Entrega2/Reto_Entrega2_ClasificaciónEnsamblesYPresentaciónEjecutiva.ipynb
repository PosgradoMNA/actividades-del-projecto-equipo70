{
  "nbformat": 4,
  "nbformat_minor": 0,
  "metadata": {
    "colab": {
      "provenance": [],
      "authorship_tag": "ABX9TyNoaGLOm9xJFLQNJxdMehsP",
      "include_colab_link": true
    },
    "kernelspec": {
      "name": "python3",
      "display_name": "Python 3"
    },
    "language_info": {
      "name": "python"
    }
  },
  "cells": [
    {
      "cell_type": "markdown",
      "metadata": {
        "id": "view-in-github",
        "colab_type": "text"
      },
      "source": [
        "<a href=\"https://colab.research.google.com/github/PosgradoMNA/actividades-del-projecto-equipo70/blob/main/RetoFinal/Entrega2/Reto_Entrega2_Clasificaci%C3%B3nEnsamblesYPresentaci%C3%B3nEjecutiva.ipynb\" target=\"_parent\"><img src=\"https://colab.research.google.com/assets/colab-badge.svg\" alt=\"Open In Colab\"/></a>"
      ]
    },
    {
      "cell_type": "markdown",
      "source": [
        "**Instituto Tecnológico y de Estudios Superiores de Monterrey**\n",
        "\n",
        "**Maestría en Inteligencia Artificial Aplicada**"
      ],
      "metadata": {
        "id": "bKnsm1reDtlk"
      }
    },
    {
      "cell_type": "markdown",
      "source": [
        "# Reto -> Entrega 2 (18/11): Clasificación-ensambles y presentación ejecutiva.\n",
        "\n",
        "\n",
        "\n",
        "---\n",
        "\n",
        "\n",
        "\n",
        "---\n",
        "\n"
      ],
      "metadata": {
        "id": "1YYa_CCeD0zp"
      }
    },
    {
      "cell_type": "markdown",
      "source": [
        "Datos generales\n",
        "\n",
        "---\n",
        "\n",
        "Reto -> Entrega 2 (18/11): Clasificación-ensambles y presentación ejecutiva.\n",
        "\n",
        "---\n",
        "\n",
        "* Nombres del equipo 70:\n",
        "  * Javier Pérez Sanagustín\n",
        "  * Herbert Joadan Romero Villarreal\n",
        "\n",
        "* Matrículas:\n",
        "  * A01794233\n",
        "  * A01794199\n",
        "\n",
        "* Materia: Ciencia y analítica de datos (Gpo 10)\n",
        "\n",
        "* Profesor titular: María de la Paz Rico Fernández\n",
        "\n",
        "Profesor tutor: Bernardo Charles Canales\n",
        "\n",
        "Fecha: 15 de noviembre del 2022"
      ],
      "metadata": {
        "id": "ZmSK58ZLEBF1"
      }
    },
    {
      "cell_type": "markdown",
      "source": [
        "## Clasificación\n",
        "\n",
        "\n",
        "---\n",
        "\n"
      ],
      "metadata": {
        "id": "_G2QWt-FEiFc"
      }
    },
    {
      "cell_type": "markdown",
      "source": [
        "Se eligió y se realizó la limpieza en la base de datos de:\n",
        "* Aguas subterraneas.\n",
        "\n"
      ],
      "metadata": {
        "id": "v-pJROXEEumz"
      }
    },
    {
      "cell_type": "code",
      "source": [
        "# Importamos la librería Pandas y el dataframe limpio de la entrega anterior\n",
        "import pandas as pd\n",
        "\n",
        "url_sub = 'https://raw.githubusercontent.com/PosgradoMNA/actividades-del-projecto-equipo70/main/RetoFinal/DB/df_clean_sub.csv'\n",
        "df_sub = pd.read_csv(url_sub,encoding='cp1252')\n",
        "df_sub.sample(3) # Observamos una muestra aleatoria de nuestros datos"
      ],
      "metadata": {
        "colab": {
          "base_uri": "https://localhost:8080/",
          "height": 306
        },
        "id": "ucWys94HErNF",
        "outputId": "f9d165ad-ec3e-4bec-bfb7-85aa9f2cbd42"
      },
      "execution_count": 1,
      "outputs": [
        {
          "output_type": "execute_result",
          "data": {
            "text/plain": [
              "     Unnamed: 0      CLAVE                    SITIO  \\\n",
              "887         338  DLHID1465  MANANTIAL TLACOTLAPILCO   \n",
              "341         828  OCNOR4048                 TECORIPA   \n",
              "276         700  OCFSU2946            INDEPENDENCIA   \n",
              "\n",
              "           ORGANISMO_DE_CUENCA   ESTADO         MUNICIPIO      ACUIFERO  \\\n",
              "887  AGUAS DEL VALLE DE MEXICO  HIDALGO       CHILCUAUTLA   IXMIQUILPAN   \n",
              "341                   NOROESTE   SONORA       LA COLORADA  RIO TECORIPA   \n",
              "276               FRONTERA SUR  CHIAPAS  LA INDEPENDENCIA       COMITAN   \n",
              "\n",
              "       SUBTIPO    LONGITUD    LATITUD  ...  CUMPLE_CON_DUR CUMPLE_CON_CF  \\\n",
              "887  MANANTIAL  -99.222808  20.374697  ...              SI            SI   \n",
              "341       POZO -109.956540  28.626130  ...              SI            SI   \n",
              "276       POZO  -92.005000  16.251750  ...              SI            SI   \n",
              "\n",
              "     CUMPLE_CON_NO3 CUMPLE_CON_AS  CUMPLE_CON_CD CUMPLE_CON_CR  CUMPLE_CON_HG  \\\n",
              "887              SI            SI             SI            SI             SI   \n",
              "341              SI            SI             SI            SI             SI   \n",
              "276              SI            SI             SI            SI             SI   \n",
              "\n",
              "    CUMPLE_CON_PB  CUMPLE_CON_MN CUMPLE_CON_FE  \n",
              "887            SI             SI            NO  \n",
              "341            SI             SI            SI  \n",
              "276            SI             SI            SI  \n",
              "\n",
              "[3 rows x 53 columns]"
            ],
            "text/html": [
              "\n",
              "  <div id=\"df-49fa20d6-41d2-41f4-8a11-0a14101b526e\">\n",
              "    <div class=\"colab-df-container\">\n",
              "      <div>\n",
              "<style scoped>\n",
              "    .dataframe tbody tr th:only-of-type {\n",
              "        vertical-align: middle;\n",
              "    }\n",
              "\n",
              "    .dataframe tbody tr th {\n",
              "        vertical-align: top;\n",
              "    }\n",
              "\n",
              "    .dataframe thead th {\n",
              "        text-align: right;\n",
              "    }\n",
              "</style>\n",
              "<table border=\"1\" class=\"dataframe\">\n",
              "  <thead>\n",
              "    <tr style=\"text-align: right;\">\n",
              "      <th></th>\n",
              "      <th>Unnamed: 0</th>\n",
              "      <th>CLAVE</th>\n",
              "      <th>SITIO</th>\n",
              "      <th>ORGANISMO_DE_CUENCA</th>\n",
              "      <th>ESTADO</th>\n",
              "      <th>MUNICIPIO</th>\n",
              "      <th>ACUIFERO</th>\n",
              "      <th>SUBTIPO</th>\n",
              "      <th>LONGITUD</th>\n",
              "      <th>LATITUD</th>\n",
              "      <th>...</th>\n",
              "      <th>CUMPLE_CON_DUR</th>\n",
              "      <th>CUMPLE_CON_CF</th>\n",
              "      <th>CUMPLE_CON_NO3</th>\n",
              "      <th>CUMPLE_CON_AS</th>\n",
              "      <th>CUMPLE_CON_CD</th>\n",
              "      <th>CUMPLE_CON_CR</th>\n",
              "      <th>CUMPLE_CON_HG</th>\n",
              "      <th>CUMPLE_CON_PB</th>\n",
              "      <th>CUMPLE_CON_MN</th>\n",
              "      <th>CUMPLE_CON_FE</th>\n",
              "    </tr>\n",
              "  </thead>\n",
              "  <tbody>\n",
              "    <tr>\n",
              "      <th>887</th>\n",
              "      <td>338</td>\n",
              "      <td>DLHID1465</td>\n",
              "      <td>MANANTIAL TLACOTLAPILCO</td>\n",
              "      <td>AGUAS DEL VALLE DE MEXICO</td>\n",
              "      <td>HIDALGO</td>\n",
              "      <td>CHILCUAUTLA</td>\n",
              "      <td>IXMIQUILPAN</td>\n",
              "      <td>MANANTIAL</td>\n",
              "      <td>-99.222808</td>\n",
              "      <td>20.374697</td>\n",
              "      <td>...</td>\n",
              "      <td>SI</td>\n",
              "      <td>SI</td>\n",
              "      <td>SI</td>\n",
              "      <td>SI</td>\n",
              "      <td>SI</td>\n",
              "      <td>SI</td>\n",
              "      <td>SI</td>\n",
              "      <td>SI</td>\n",
              "      <td>SI</td>\n",
              "      <td>NO</td>\n",
              "    </tr>\n",
              "    <tr>\n",
              "      <th>341</th>\n",
              "      <td>828</td>\n",
              "      <td>OCNOR4048</td>\n",
              "      <td>TECORIPA</td>\n",
              "      <td>NOROESTE</td>\n",
              "      <td>SONORA</td>\n",
              "      <td>LA COLORADA</td>\n",
              "      <td>RIO TECORIPA</td>\n",
              "      <td>POZO</td>\n",
              "      <td>-109.956540</td>\n",
              "      <td>28.626130</td>\n",
              "      <td>...</td>\n",
              "      <td>SI</td>\n",
              "      <td>SI</td>\n",
              "      <td>SI</td>\n",
              "      <td>SI</td>\n",
              "      <td>SI</td>\n",
              "      <td>SI</td>\n",
              "      <td>SI</td>\n",
              "      <td>SI</td>\n",
              "      <td>SI</td>\n",
              "      <td>SI</td>\n",
              "    </tr>\n",
              "    <tr>\n",
              "      <th>276</th>\n",
              "      <td>700</td>\n",
              "      <td>OCFSU2946</td>\n",
              "      <td>INDEPENDENCIA</td>\n",
              "      <td>FRONTERA SUR</td>\n",
              "      <td>CHIAPAS</td>\n",
              "      <td>LA INDEPENDENCIA</td>\n",
              "      <td>COMITAN</td>\n",
              "      <td>POZO</td>\n",
              "      <td>-92.005000</td>\n",
              "      <td>16.251750</td>\n",
              "      <td>...</td>\n",
              "      <td>SI</td>\n",
              "      <td>SI</td>\n",
              "      <td>SI</td>\n",
              "      <td>SI</td>\n",
              "      <td>SI</td>\n",
              "      <td>SI</td>\n",
              "      <td>SI</td>\n",
              "      <td>SI</td>\n",
              "      <td>SI</td>\n",
              "      <td>SI</td>\n",
              "    </tr>\n",
              "  </tbody>\n",
              "</table>\n",
              "<p>3 rows × 53 columns</p>\n",
              "</div>\n",
              "      <button class=\"colab-df-convert\" onclick=\"convertToInteractive('df-49fa20d6-41d2-41f4-8a11-0a14101b526e')\"\n",
              "              title=\"Convert this dataframe to an interactive table.\"\n",
              "              style=\"display:none;\">\n",
              "        \n",
              "  <svg xmlns=\"http://www.w3.org/2000/svg\" height=\"24px\"viewBox=\"0 0 24 24\"\n",
              "       width=\"24px\">\n",
              "    <path d=\"M0 0h24v24H0V0z\" fill=\"none\"/>\n",
              "    <path d=\"M18.56 5.44l.94 2.06.94-2.06 2.06-.94-2.06-.94-.94-2.06-.94 2.06-2.06.94zm-11 1L8.5 8.5l.94-2.06 2.06-.94-2.06-.94L8.5 2.5l-.94 2.06-2.06.94zm10 10l.94 2.06.94-2.06 2.06-.94-2.06-.94-.94-2.06-.94 2.06-2.06.94z\"/><path d=\"M17.41 7.96l-1.37-1.37c-.4-.4-.92-.59-1.43-.59-.52 0-1.04.2-1.43.59L10.3 9.45l-7.72 7.72c-.78.78-.78 2.05 0 2.83L4 21.41c.39.39.9.59 1.41.59.51 0 1.02-.2 1.41-.59l7.78-7.78 2.81-2.81c.8-.78.8-2.07 0-2.86zM5.41 20L4 18.59l7.72-7.72 1.47 1.35L5.41 20z\"/>\n",
              "  </svg>\n",
              "      </button>\n",
              "      \n",
              "  <style>\n",
              "    .colab-df-container {\n",
              "      display:flex;\n",
              "      flex-wrap:wrap;\n",
              "      gap: 12px;\n",
              "    }\n",
              "\n",
              "    .colab-df-convert {\n",
              "      background-color: #E8F0FE;\n",
              "      border: none;\n",
              "      border-radius: 50%;\n",
              "      cursor: pointer;\n",
              "      display: none;\n",
              "      fill: #1967D2;\n",
              "      height: 32px;\n",
              "      padding: 0 0 0 0;\n",
              "      width: 32px;\n",
              "    }\n",
              "\n",
              "    .colab-df-convert:hover {\n",
              "      background-color: #E2EBFA;\n",
              "      box-shadow: 0px 1px 2px rgba(60, 64, 67, 0.3), 0px 1px 3px 1px rgba(60, 64, 67, 0.15);\n",
              "      fill: #174EA6;\n",
              "    }\n",
              "\n",
              "    [theme=dark] .colab-df-convert {\n",
              "      background-color: #3B4455;\n",
              "      fill: #D2E3FC;\n",
              "    }\n",
              "\n",
              "    [theme=dark] .colab-df-convert:hover {\n",
              "      background-color: #434B5C;\n",
              "      box-shadow: 0px 1px 3px 1px rgba(0, 0, 0, 0.15);\n",
              "      filter: drop-shadow(0px 1px 2px rgba(0, 0, 0, 0.3));\n",
              "      fill: #FFFFFF;\n",
              "    }\n",
              "  </style>\n",
              "\n",
              "      <script>\n",
              "        const buttonEl =\n",
              "          document.querySelector('#df-49fa20d6-41d2-41f4-8a11-0a14101b526e button.colab-df-convert');\n",
              "        buttonEl.style.display =\n",
              "          google.colab.kernel.accessAllowed ? 'block' : 'none';\n",
              "\n",
              "        async function convertToInteractive(key) {\n",
              "          const element = document.querySelector('#df-49fa20d6-41d2-41f4-8a11-0a14101b526e');\n",
              "          const dataTable =\n",
              "            await google.colab.kernel.invokeFunction('convertToInteractive',\n",
              "                                                     [key], {});\n",
              "          if (!dataTable) return;\n",
              "\n",
              "          const docLinkHtml = 'Like what you see? Visit the ' +\n",
              "            '<a target=\"_blank\" href=https://colab.research.google.com/notebooks/data_table.ipynb>data table notebook</a>'\n",
              "            + ' to learn more about interactive tables.';\n",
              "          element.innerHTML = '';\n",
              "          dataTable['output_type'] = 'display_data';\n",
              "          await google.colab.output.renderOutput(dataTable, element);\n",
              "          const docLink = document.createElement('div');\n",
              "          docLink.innerHTML = docLinkHtml;\n",
              "          element.appendChild(docLink);\n",
              "        }\n",
              "      </script>\n",
              "    </div>\n",
              "  </div>\n",
              "  "
            ]
          },
          "metadata": {},
          "execution_count": 1
        }
      ]
    },
    {
      "cell_type": "markdown",
      "source": [
        "Selecciona tus variables independientes X y dependiente Y (semáforo)."
      ],
      "metadata": {
        "id": "UbkFkCv_GrY3"
      }
    },
    {
      "cell_type": "code",
      "source": [],
      "metadata": {
        "id": "-SNTWxiWG1kw"
      },
      "execution_count": null,
      "outputs": []
    },
    {
      "cell_type": "markdown",
      "source": [
        "Cambia a label encoding el semáforo, ej, de [\"clase 1\", \"clase 2\", \"clase 3\"] a [1,2,3]."
      ],
      "metadata": {
        "id": "1cJq6MmNG0vB"
      }
    },
    {
      "cell_type": "code",
      "source": [],
      "metadata": {
        "id": "KEhaG01nG6F5"
      },
      "execution_count": null,
      "outputs": []
    },
    {
      "cell_type": "markdown",
      "source": [
        "Realiza un análisis general de las features importances a traves de decision trees o random forest."
      ],
      "metadata": {
        "id": "9dN305BRG-VA"
      }
    },
    {
      "cell_type": "code",
      "source": [],
      "metadata": {
        "id": "4TpZzZ7uHEL2"
      },
      "execution_count": null,
      "outputs": []
    },
    {
      "cell_type": "markdown",
      "source": [
        "Selecciona las variables de mayor importancia."
      ],
      "metadata": {
        "id": "TBHrSvgbG-tA"
      }
    },
    {
      "cell_type": "code",
      "source": [],
      "metadata": {
        "id": "hjaDZ-QHHEiM"
      },
      "execution_count": null,
      "outputs": []
    },
    {
      "cell_type": "markdown",
      "source": [
        "Realiza tu clasificador, recuerda dividir los datos de manera balanceada (auxiliate de train test split)."
      ],
      "metadata": {
        "id": "3XdRCu2gG-8I"
      }
    },
    {
      "cell_type": "code",
      "source": [],
      "metadata": {
        "id": "_OPOmUj4HE-Z"
      },
      "execution_count": null,
      "outputs": []
    },
    {
      "cell_type": "markdown",
      "source": [
        "Explora que clasificador es el más optimo, ejemplo:\n",
        "\n",
        "  * Decision trees\n",
        "  * Random Forest.\n"
      ],
      "metadata": {
        "id": "J5zLMAH6G_MZ"
      }
    },
    {
      "cell_type": "code",
      "source": [],
      "metadata": {
        "id": "xkhWjTavHFZ8"
      },
      "execution_count": null,
      "outputs": []
    },
    {
      "cell_type": "markdown",
      "source": [
        "Determina el grado de exactitud a través del reporte de clasificación y análisis de la gráfica de Precision Recall."
      ],
      "metadata": {
        "id": "uvVdi2H4G_Y6"
      }
    },
    {
      "cell_type": "code",
      "source": [],
      "metadata": {
        "id": "jyu0FZIiHFyb"
      },
      "execution_count": null,
      "outputs": []
    },
    {
      "cell_type": "markdown",
      "source": [
        "Visualiza los resultados del modelo o las predicciones a través de una matriz de confusión."
      ],
      "metadata": {
        "id": "bMUiD6jQG_no"
      }
    },
    {
      "cell_type": "code",
      "source": [],
      "metadata": {
        "id": "gWVUEAISHGJp"
      },
      "execution_count": null,
      "outputs": []
    },
    {
      "cell_type": "markdown",
      "source": [
        "Realiza un reporte de los principales hallazgos y conclusiones del experimento e incluyelos en una presentación ejecutiva de 10 diapositivas. La presentación deberá incluir todos los pasos del pipeline seguidos, limpieza, análisis, kmeans, clasificación, resultados y conclusiones."
      ],
      "metadata": {
        "id": "n1ctn54iG_34"
      }
    }
  ]
}