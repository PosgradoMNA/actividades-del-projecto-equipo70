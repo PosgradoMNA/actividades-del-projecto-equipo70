{
  "nbformat": 4,
  "nbformat_minor": 0,
  "metadata": {
    "colab": {
      "provenance": [],
      "authorship_tag": "ABX9TyM7GAcrDOYOSiC6NnVxoERI",
      "include_colab_link": true
    },
    "kernelspec": {
      "name": "python3",
      "display_name": "Python 3"
    },
    "language_info": {
      "name": "python"
    }
  },
  "cells": [
    {
      "cell_type": "markdown",
      "metadata": {
        "id": "view-in-github",
        "colab_type": "text"
      },
      "source": [
        "<a href=\"https://colab.research.google.com/github/PosgradoMNA/actividades-del-projecto-equipo70/blob/main/RetoFinal/Entrega2/Reto_Entrega2_Clasificaci%C3%B3nEnsamblesYPresentaci%C3%B3nEjecutiva.ipynb\" target=\"_parent\"><img src=\"https://colab.research.google.com/assets/colab-badge.svg\" alt=\"Open In Colab\"/></a>"
      ]
    },
    {
      "cell_type": "markdown",
      "source": [
        "**Instituto Tecnológico y de Estudios Superiores de Monterrey**\n",
        "\n",
        "**Maestría en Inteligencia Artificial Aplicada**"
      ],
      "metadata": {
        "id": "bKnsm1reDtlk"
      }
    },
    {
      "cell_type": "markdown",
      "source": [
        "# Reto -> Entrega 2 (18/11): Clasificación-ensambles y presentación ejecutiva.\n",
        "\n",
        "\n",
        "\n",
        "---\n",
        "\n",
        "\n",
        "\n",
        "---\n",
        "\n"
      ],
      "metadata": {
        "id": "1YYa_CCeD0zp"
      }
    },
    {
      "cell_type": "markdown",
      "source": [
        "Datos generales\n",
        "\n",
        "---\n",
        "\n",
        "Reto -> Entrega 2 (18/11): Clasificación-ensambles y presentación ejecutiva.\n",
        "\n",
        "---\n",
        "\n",
        "* Nombres del equipo 70:\n",
        "  * Javier Pérez Sanagustín\n",
        "  * Herbert Joadan Romero Villarreal\n",
        "\n",
        "* Matrículas:\n",
        "  * A01794233\n",
        "  * A01794199\n",
        "\n",
        "* Materia: Ciencia y analítica de datos (Gpo 10)\n",
        "\n",
        "* Profesor titular: María de la Paz Rico Fernández\n",
        "\n",
        "Profesor tutor: Bernardo Charles Canales\n",
        "\n",
        "Fecha: 15 de noviembre del 2022"
      ],
      "metadata": {
        "id": "ZmSK58ZLEBF1"
      }
    },
    {
      "cell_type": "markdown",
      "source": [
        "## Clasificación\n",
        "\n",
        "\n",
        "---\n",
        "\n"
      ],
      "metadata": {
        "id": "_G2QWt-FEiFc"
      }
    },
    {
      "cell_type": "markdown",
      "source": [
        "Se eligió y se realizó la limpieza en la base de datos de:\n",
        "* Aguas subterraneas.\n",
        "\n"
      ],
      "metadata": {
        "id": "v-pJROXEEumz"
      }
    },
    {
      "cell_type": "code",
      "source": [
        "# Importamos la librería Pandas y el dataframe limpio de la entrega anterior\n",
        "import pandas as pd\n",
        "\n",
        "url_sub = 'https://raw.githubusercontent.com/PosgradoMNA/actividades-del-projecto-equipo70/main/RetoFinal/DB/df_clean_sub.csv'\n",
        "df_sub = pd.read_csv(url_sub,encoding='cp1252')\n",
        "df_sub.drop('Unnamed: 0', inplace=True, axis=1)\n",
        "df_sub.sample(3) # Observamos una muestra aleatoria de nuestros datos"
      ],
      "metadata": {
        "colab": {
          "base_uri": "https://localhost:8080/",
          "height": 306
        },
        "id": "ucWys94HErNF",
        "outputId": "0638407c-6ea6-41ae-bb55-c4bd4915ae4d"
      },
      "execution_count": 20,
      "outputs": [
        {
          "output_type": "execute_result",
          "data": {
            "text/plain": [
              "         CLAVE               SITIO          ORGANISMO_DE_CUENCA  \\\n",
              "460   DLCHI297   VALLE DE JUAREZ 2                    RIO BRAVO   \n",
              "550   DLDUR761  POZO LEONA VICARIO  CUENCAS CENTRALES DEL NORTE   \n",
              "136  DLMIC1681           TIRINDARO      LERMA SANTIAGO PACIFICO   \n",
              "\n",
              "                  ESTADO         MUNICIPIO          ACUIFERO SUBTIPO  \\\n",
              "460            CHIHUAHUA         GUADALUPE   VALLE DE JUAREZ    POZO   \n",
              "550              DURANGO  SAN JUAN DEL RIO  SAN JUAN DEL RIO    POZO   \n",
              "136  MICHOACAN DE OCAMPO            ZACAPU            ZACAPU    POZO   \n",
              "\n",
              "      LONGITUD   LATITUD  ALC_mg/L  ... CUMPLE_CON_DUR  CUMPLE_CON_CF  \\\n",
              "460 -106.11205  31.34143   204.765  ...             SI             SI   \n",
              "550 -104.49400  24.69971   466.470  ...             SI             SI   \n",
              "136 -101.74463  19.76757    90.000  ...             SI             SI   \n",
              "\n",
              "    CUMPLE_CON_NO3  CUMPLE_CON_AS CUMPLE_CON_CD  CUMPLE_CON_CR CUMPLE_CON_HG  \\\n",
              "460             SI             SI            SI             SI            SI   \n",
              "550             SI             SI            SI             SI            SI   \n",
              "136             SI             SI            SI             SI            SI   \n",
              "\n",
              "     CUMPLE_CON_PB CUMPLE_CON_MN  CUMPLE_CON_FE  \n",
              "460             SI            SI             SI  \n",
              "550             SI            SI             SI  \n",
              "136             SI            SI             SI  \n",
              "\n",
              "[3 rows x 52 columns]"
            ],
            "text/html": [
              "\n",
              "  <div id=\"df-62c4d900-4e7a-4fd6-8bd4-3f1e18f39510\">\n",
              "    <div class=\"colab-df-container\">\n",
              "      <div>\n",
              "<style scoped>\n",
              "    .dataframe tbody tr th:only-of-type {\n",
              "        vertical-align: middle;\n",
              "    }\n",
              "\n",
              "    .dataframe tbody tr th {\n",
              "        vertical-align: top;\n",
              "    }\n",
              "\n",
              "    .dataframe thead th {\n",
              "        text-align: right;\n",
              "    }\n",
              "</style>\n",
              "<table border=\"1\" class=\"dataframe\">\n",
              "  <thead>\n",
              "    <tr style=\"text-align: right;\">\n",
              "      <th></th>\n",
              "      <th>CLAVE</th>\n",
              "      <th>SITIO</th>\n",
              "      <th>ORGANISMO_DE_CUENCA</th>\n",
              "      <th>ESTADO</th>\n",
              "      <th>MUNICIPIO</th>\n",
              "      <th>ACUIFERO</th>\n",
              "      <th>SUBTIPO</th>\n",
              "      <th>LONGITUD</th>\n",
              "      <th>LATITUD</th>\n",
              "      <th>ALC_mg/L</th>\n",
              "      <th>...</th>\n",
              "      <th>CUMPLE_CON_DUR</th>\n",
              "      <th>CUMPLE_CON_CF</th>\n",
              "      <th>CUMPLE_CON_NO3</th>\n",
              "      <th>CUMPLE_CON_AS</th>\n",
              "      <th>CUMPLE_CON_CD</th>\n",
              "      <th>CUMPLE_CON_CR</th>\n",
              "      <th>CUMPLE_CON_HG</th>\n",
              "      <th>CUMPLE_CON_PB</th>\n",
              "      <th>CUMPLE_CON_MN</th>\n",
              "      <th>CUMPLE_CON_FE</th>\n",
              "    </tr>\n",
              "  </thead>\n",
              "  <tbody>\n",
              "    <tr>\n",
              "      <th>460</th>\n",
              "      <td>DLCHI297</td>\n",
              "      <td>VALLE DE JUAREZ 2</td>\n",
              "      <td>RIO BRAVO</td>\n",
              "      <td>CHIHUAHUA</td>\n",
              "      <td>GUADALUPE</td>\n",
              "      <td>VALLE DE JUAREZ</td>\n",
              "      <td>POZO</td>\n",
              "      <td>-106.11205</td>\n",
              "      <td>31.34143</td>\n",
              "      <td>204.765</td>\n",
              "      <td>...</td>\n",
              "      <td>SI</td>\n",
              "      <td>SI</td>\n",
              "      <td>SI</td>\n",
              "      <td>SI</td>\n",
              "      <td>SI</td>\n",
              "      <td>SI</td>\n",
              "      <td>SI</td>\n",
              "      <td>SI</td>\n",
              "      <td>SI</td>\n",
              "      <td>SI</td>\n",
              "    </tr>\n",
              "    <tr>\n",
              "      <th>550</th>\n",
              "      <td>DLDUR761</td>\n",
              "      <td>POZO LEONA VICARIO</td>\n",
              "      <td>CUENCAS CENTRALES DEL NORTE</td>\n",
              "      <td>DURANGO</td>\n",
              "      <td>SAN JUAN DEL RIO</td>\n",
              "      <td>SAN JUAN DEL RIO</td>\n",
              "      <td>POZO</td>\n",
              "      <td>-104.49400</td>\n",
              "      <td>24.69971</td>\n",
              "      <td>466.470</td>\n",
              "      <td>...</td>\n",
              "      <td>SI</td>\n",
              "      <td>SI</td>\n",
              "      <td>SI</td>\n",
              "      <td>SI</td>\n",
              "      <td>SI</td>\n",
              "      <td>SI</td>\n",
              "      <td>SI</td>\n",
              "      <td>SI</td>\n",
              "      <td>SI</td>\n",
              "      <td>SI</td>\n",
              "    </tr>\n",
              "    <tr>\n",
              "      <th>136</th>\n",
              "      <td>DLMIC1681</td>\n",
              "      <td>TIRINDARO</td>\n",
              "      <td>LERMA SANTIAGO PACIFICO</td>\n",
              "      <td>MICHOACAN DE OCAMPO</td>\n",
              "      <td>ZACAPU</td>\n",
              "      <td>ZACAPU</td>\n",
              "      <td>POZO</td>\n",
              "      <td>-101.74463</td>\n",
              "      <td>19.76757</td>\n",
              "      <td>90.000</td>\n",
              "      <td>...</td>\n",
              "      <td>SI</td>\n",
              "      <td>SI</td>\n",
              "      <td>SI</td>\n",
              "      <td>SI</td>\n",
              "      <td>SI</td>\n",
              "      <td>SI</td>\n",
              "      <td>SI</td>\n",
              "      <td>SI</td>\n",
              "      <td>SI</td>\n",
              "      <td>SI</td>\n",
              "    </tr>\n",
              "  </tbody>\n",
              "</table>\n",
              "<p>3 rows × 52 columns</p>\n",
              "</div>\n",
              "      <button class=\"colab-df-convert\" onclick=\"convertToInteractive('df-62c4d900-4e7a-4fd6-8bd4-3f1e18f39510')\"\n",
              "              title=\"Convert this dataframe to an interactive table.\"\n",
              "              style=\"display:none;\">\n",
              "        \n",
              "  <svg xmlns=\"http://www.w3.org/2000/svg\" height=\"24px\"viewBox=\"0 0 24 24\"\n",
              "       width=\"24px\">\n",
              "    <path d=\"M0 0h24v24H0V0z\" fill=\"none\"/>\n",
              "    <path d=\"M18.56 5.44l.94 2.06.94-2.06 2.06-.94-2.06-.94-.94-2.06-.94 2.06-2.06.94zm-11 1L8.5 8.5l.94-2.06 2.06-.94-2.06-.94L8.5 2.5l-.94 2.06-2.06.94zm10 10l.94 2.06.94-2.06 2.06-.94-2.06-.94-.94-2.06-.94 2.06-2.06.94z\"/><path d=\"M17.41 7.96l-1.37-1.37c-.4-.4-.92-.59-1.43-.59-.52 0-1.04.2-1.43.59L10.3 9.45l-7.72 7.72c-.78.78-.78 2.05 0 2.83L4 21.41c.39.39.9.59 1.41.59.51 0 1.02-.2 1.41-.59l7.78-7.78 2.81-2.81c.8-.78.8-2.07 0-2.86zM5.41 20L4 18.59l7.72-7.72 1.47 1.35L5.41 20z\"/>\n",
              "  </svg>\n",
              "      </button>\n",
              "      \n",
              "  <style>\n",
              "    .colab-df-container {\n",
              "      display:flex;\n",
              "      flex-wrap:wrap;\n",
              "      gap: 12px;\n",
              "    }\n",
              "\n",
              "    .colab-df-convert {\n",
              "      background-color: #E8F0FE;\n",
              "      border: none;\n",
              "      border-radius: 50%;\n",
              "      cursor: pointer;\n",
              "      display: none;\n",
              "      fill: #1967D2;\n",
              "      height: 32px;\n",
              "      padding: 0 0 0 0;\n",
              "      width: 32px;\n",
              "    }\n",
              "\n",
              "    .colab-df-convert:hover {\n",
              "      background-color: #E2EBFA;\n",
              "      box-shadow: 0px 1px 2px rgba(60, 64, 67, 0.3), 0px 1px 3px 1px rgba(60, 64, 67, 0.15);\n",
              "      fill: #174EA6;\n",
              "    }\n",
              "\n",
              "    [theme=dark] .colab-df-convert {\n",
              "      background-color: #3B4455;\n",
              "      fill: #D2E3FC;\n",
              "    }\n",
              "\n",
              "    [theme=dark] .colab-df-convert:hover {\n",
              "      background-color: #434B5C;\n",
              "      box-shadow: 0px 1px 3px 1px rgba(0, 0, 0, 0.15);\n",
              "      filter: drop-shadow(0px 1px 2px rgba(0, 0, 0, 0.3));\n",
              "      fill: #FFFFFF;\n",
              "    }\n",
              "  </style>\n",
              "\n",
              "      <script>\n",
              "        const buttonEl =\n",
              "          document.querySelector('#df-62c4d900-4e7a-4fd6-8bd4-3f1e18f39510 button.colab-df-convert');\n",
              "        buttonEl.style.display =\n",
              "          google.colab.kernel.accessAllowed ? 'block' : 'none';\n",
              "\n",
              "        async function convertToInteractive(key) {\n",
              "          const element = document.querySelector('#df-62c4d900-4e7a-4fd6-8bd4-3f1e18f39510');\n",
              "          const dataTable =\n",
              "            await google.colab.kernel.invokeFunction('convertToInteractive',\n",
              "                                                     [key], {});\n",
              "          if (!dataTable) return;\n",
              "\n",
              "          const docLinkHtml = 'Like what you see? Visit the ' +\n",
              "            '<a target=\"_blank\" href=https://colab.research.google.com/notebooks/data_table.ipynb>data table notebook</a>'\n",
              "            + ' to learn more about interactive tables.';\n",
              "          element.innerHTML = '';\n",
              "          dataTable['output_type'] = 'display_data';\n",
              "          await google.colab.output.renderOutput(dataTable, element);\n",
              "          const docLink = document.createElement('div');\n",
              "          docLink.innerHTML = docLinkHtml;\n",
              "          element.appendChild(docLink);\n",
              "        }\n",
              "      </script>\n",
              "    </div>\n",
              "  </div>\n",
              "  "
            ]
          },
          "metadata": {},
          "execution_count": 20
        }
      ]
    },
    {
      "cell_type": "markdown",
      "source": [
        "Selecciona tus variables independientes X y dependiente Y (semáforo)."
      ],
      "metadata": {
        "id": "UbkFkCv_GrY3"
      }
    },
    {
      "cell_type": "code",
      "source": [
        "df_sub_w = df_sub.copy()\n",
        "df_sub_w.columns\n",
        "\n",
        "\n",
        "\n",
        "\n"
      ],
      "metadata": {
        "id": "-SNTWxiWG1kw",
        "colab": {
          "base_uri": "https://localhost:8080/"
        },
        "outputId": "e37992af-a86d-4e86-a185-ec685b7b60db"
      },
      "execution_count": 21,
      "outputs": [
        {
          "output_type": "execute_result",
          "data": {
            "text/plain": [
              "Index(['CLAVE', 'SITIO', 'ORGANISMO_DE_CUENCA', 'ESTADO', 'MUNICIPIO',\n",
              "       'ACUIFERO', 'SUBTIPO', 'LONGITUD', 'LATITUD', 'ALC_mg/L', 'CALIDAD_ALC',\n",
              "       'CONDUCT_mS/cm', 'CALIDAD_CONDUC', 'SDT_M_mg/L', 'CALIDAD_SDT_salin',\n",
              "       'FLUORUROS_mg/L', 'CALIDAD_FLUO', 'DUR_mg/L', 'CALIDAD_DUR',\n",
              "       'COLI_FEC_NMP/100_mL', 'CALIDAD_COLI_FEC', 'N_NO3_mg/L',\n",
              "       'CALIDAD_N_NO3', 'AS_TOT_mg/L', 'CALIDAD_AS', 'CD_TOT_mg/L',\n",
              "       'CALIDAD_CD', 'CR_TOT_mg/L', 'CALIDAD_CR', 'HG_TOT_mg/L', 'CALIDAD_HG',\n",
              "       'PB_TOT_mg/L', 'CALIDAD_PB', 'MN_TOT_mg/L', 'CALIDAD_MN', 'FE_TOT_mg/L',\n",
              "       'CALIDAD_FE', 'SEMAFORO', 'CUMPLE_CON_ALC', 'CUMPLE_CON_COND',\n",
              "       'CUMPLE_CON_SDT_salin', 'CUMPLE_CON_FLUO', 'CUMPLE_CON_DUR',\n",
              "       'CUMPLE_CON_CF', 'CUMPLE_CON_NO3', 'CUMPLE_CON_AS', 'CUMPLE_CON_CD',\n",
              "       'CUMPLE_CON_CR', 'CUMPLE_CON_HG', 'CUMPLE_CON_PB', 'CUMPLE_CON_MN',\n",
              "       'CUMPLE_CON_FE'],\n",
              "      dtype='object')"
            ]
          },
          "metadata": {},
          "execution_count": 21
        }
      ]
    },
    {
      "cell_type": "code",
      "source": [
        "df_sub_w.info()"
      ],
      "metadata": {
        "id": "6dlnZ3NITWH9",
        "outputId": "0529d5ee-7c9d-4d08-d206-8d40e97d1cde",
        "colab": {
          "base_uri": "https://localhost:8080/"
        }
      },
      "execution_count": 22,
      "outputs": [
        {
          "output_type": "stream",
          "name": "stdout",
          "text": [
            "<class 'pandas.core.frame.DataFrame'>\n",
            "RangeIndex: 1068 entries, 0 to 1067\n",
            "Data columns (total 52 columns):\n",
            " #   Column                Non-Null Count  Dtype  \n",
            "---  ------                --------------  -----  \n",
            " 0   CLAVE                 1068 non-null   object \n",
            " 1   SITIO                 1068 non-null   object \n",
            " 2   ORGANISMO_DE_CUENCA   1068 non-null   object \n",
            " 3   ESTADO                1068 non-null   object \n",
            " 4   MUNICIPIO             1068 non-null   object \n",
            " 5   ACUIFERO              1068 non-null   object \n",
            " 6   SUBTIPO               1068 non-null   object \n",
            " 7   LONGITUD              1068 non-null   float64\n",
            " 8   LATITUD               1068 non-null   float64\n",
            " 9   ALC_mg/L              1068 non-null   float64\n",
            " 10  CALIDAD_ALC           434 non-null    object \n",
            " 11  CONDUCT_mS/cm         1068 non-null   float64\n",
            " 12  CALIDAD_CONDUC        434 non-null    object \n",
            " 13  SDT_M_mg/L            1068 non-null   float64\n",
            " 14  CALIDAD_SDT_salin     434 non-null    object \n",
            " 15  FLUORUROS_mg/L        1068 non-null   float64\n",
            " 16  CALIDAD_FLUO          434 non-null    object \n",
            " 17  DUR_mg/L              1068 non-null   float64\n",
            " 18  CALIDAD_DUR           434 non-null    object \n",
            " 19  COLI_FEC_NMP/100_mL   1068 non-null   float64\n",
            " 20  CALIDAD_COLI_FEC      434 non-null    object \n",
            " 21  N_NO3_mg/L            1068 non-null   float64\n",
            " 22  CALIDAD_N_NO3         434 non-null    object \n",
            " 23  AS_TOT_mg/L           1068 non-null   float64\n",
            " 24  CALIDAD_AS            434 non-null    object \n",
            " 25  CD_TOT_mg/L           1068 non-null   float64\n",
            " 26  CALIDAD_CD            434 non-null    object \n",
            " 27  CR_TOT_mg/L           1068 non-null   float64\n",
            " 28  CALIDAD_CR            434 non-null    object \n",
            " 29  HG_TOT_mg/L           1068 non-null   float64\n",
            " 30  CALIDAD_HG            434 non-null    object \n",
            " 31  PB_TOT_mg/L           1068 non-null   float64\n",
            " 32  CALIDAD_PB            434 non-null    object \n",
            " 33  MN_TOT_mg/L           1068 non-null   float64\n",
            " 34  CALIDAD_MN            434 non-null    object \n",
            " 35  FE_TOT_mg/L           1068 non-null   float64\n",
            " 36  CALIDAD_FE            434 non-null    object \n",
            " 37  SEMAFORO              1068 non-null   object \n",
            " 38  CUMPLE_CON_ALC        1068 non-null   object \n",
            " 39  CUMPLE_CON_COND       1068 non-null   object \n",
            " 40  CUMPLE_CON_SDT_salin  1068 non-null   object \n",
            " 41  CUMPLE_CON_FLUO       1068 non-null   object \n",
            " 42  CUMPLE_CON_DUR        1068 non-null   object \n",
            " 43  CUMPLE_CON_CF         1068 non-null   object \n",
            " 44  CUMPLE_CON_NO3        1068 non-null   object \n",
            " 45  CUMPLE_CON_AS         1068 non-null   object \n",
            " 46  CUMPLE_CON_CD         1068 non-null   object \n",
            " 47  CUMPLE_CON_CR         1068 non-null   object \n",
            " 48  CUMPLE_CON_HG         1068 non-null   object \n",
            " 49  CUMPLE_CON_PB         1068 non-null   object \n",
            " 50  CUMPLE_CON_MN         1068 non-null   object \n",
            " 51  CUMPLE_CON_FE         1068 non-null   object \n",
            "dtypes: float64(16), object(36)\n",
            "memory usage: 434.0+ KB\n"
          ]
        }
      ]
    },
    {
      "cell_type": "code",
      "source": [
        "variable_drop = ['CLAVE','SITIO', 'ORGANISMO_DE_CUENCA', 'ESTADO', 'MUNICIPIO',\n",
        "                 'ACUIFERO', 'SUBTIPO','CALIDAD_ALC', 'CALIDAD_CONDUC',  'CALIDAD_SDT_salin',\n",
        "                 'CALIDAD_FLUO', 'CALIDAD_DUR', 'CALIDAD_COLI_FEC', 'CALIDAD_N_NO3',  'CALIDAD_AS', \n",
        "                 'CALIDAD_CD', 'CALIDAD_CR', 'CALIDAD_HG', 'CALIDAD_PB',  'CALIDAD_MN', 'CALIDAD_FE' ]\n",
        "\n",
        "df_sub_w.drop(variable_drop, inplace=True, axis=1)\n",
        "df_sub_w.info()"
      ],
      "metadata": {
        "id": "kQEvuaRuUOxd",
        "outputId": "5d048d8c-4522-4c0e-c20e-017f1411edfd",
        "colab": {
          "base_uri": "https://localhost:8080/"
        }
      },
      "execution_count": 23,
      "outputs": [
        {
          "output_type": "stream",
          "name": "stdout",
          "text": [
            "<class 'pandas.core.frame.DataFrame'>\n",
            "RangeIndex: 1068 entries, 0 to 1067\n",
            "Data columns (total 31 columns):\n",
            " #   Column                Non-Null Count  Dtype  \n",
            "---  ------                --------------  -----  \n",
            " 0   LONGITUD              1068 non-null   float64\n",
            " 1   LATITUD               1068 non-null   float64\n",
            " 2   ALC_mg/L              1068 non-null   float64\n",
            " 3   CONDUCT_mS/cm         1068 non-null   float64\n",
            " 4   SDT_M_mg/L            1068 non-null   float64\n",
            " 5   FLUORUROS_mg/L        1068 non-null   float64\n",
            " 6   DUR_mg/L              1068 non-null   float64\n",
            " 7   COLI_FEC_NMP/100_mL   1068 non-null   float64\n",
            " 8   N_NO3_mg/L            1068 non-null   float64\n",
            " 9   AS_TOT_mg/L           1068 non-null   float64\n",
            " 10  CD_TOT_mg/L           1068 non-null   float64\n",
            " 11  CR_TOT_mg/L           1068 non-null   float64\n",
            " 12  HG_TOT_mg/L           1068 non-null   float64\n",
            " 13  PB_TOT_mg/L           1068 non-null   float64\n",
            " 14  MN_TOT_mg/L           1068 non-null   float64\n",
            " 15  FE_TOT_mg/L           1068 non-null   float64\n",
            " 16  SEMAFORO              1068 non-null   object \n",
            " 17  CUMPLE_CON_ALC        1068 non-null   object \n",
            " 18  CUMPLE_CON_COND       1068 non-null   object \n",
            " 19  CUMPLE_CON_SDT_salin  1068 non-null   object \n",
            " 20  CUMPLE_CON_FLUO       1068 non-null   object \n",
            " 21  CUMPLE_CON_DUR        1068 non-null   object \n",
            " 22  CUMPLE_CON_CF         1068 non-null   object \n",
            " 23  CUMPLE_CON_NO3        1068 non-null   object \n",
            " 24  CUMPLE_CON_AS         1068 non-null   object \n",
            " 25  CUMPLE_CON_CD         1068 non-null   object \n",
            " 26  CUMPLE_CON_CR         1068 non-null   object \n",
            " 27  CUMPLE_CON_HG         1068 non-null   object \n",
            " 28  CUMPLE_CON_PB         1068 non-null   object \n",
            " 29  CUMPLE_CON_MN         1068 non-null   object \n",
            " 30  CUMPLE_CON_FE         1068 non-null   object \n",
            "dtypes: float64(16), object(15)\n",
            "memory usage: 258.8+ KB\n"
          ]
        }
      ]
    },
    {
      "cell_type": "code",
      "source": [
        "df_sub_w['CALIDAD_CONDUC'].unique()"
      ],
      "metadata": {
        "id": "6CdG-l1vVPgY",
        "outputId": "4b32c226-44d3-4db0-b446-dbe9276d1358",
        "colab": {
          "base_uri": "https://localhost:8080/"
        }
      },
      "execution_count": 9,
      "outputs": [
        {
          "output_type": "execute_result",
          "data": {
            "text/plain": [
              "array(['Permisible para riego', 'Buena para riego',\n",
              "       'Excelente para riego', nan], dtype=object)"
            ]
          },
          "metadata": {},
          "execution_count": 9
        }
      ]
    },
    {
      "cell_type": "markdown",
      "source": [
        "X : CUMPLE, NUMERICAS, LONGITUD, LAT.\n",
        "\n",
        "Y: SEMAFORO."
      ],
      "metadata": {
        "id": "aY5DlHj8ZUGP"
      }
    },
    {
      "cell_type": "markdown",
      "source": [
        "Cambia a label encoding el semáforo, ej, de [\"clase 1\", \"clase 2\", \"clase 3\"] a [1,2,3]."
      ],
      "metadata": {
        "id": "1cJq6MmNG0vB"
      }
    },
    {
      "cell_type": "code",
      "source": [
        "from sklearn.preprocessing import OneHotEncoder\n",
        "from sklearn.preprocessing import LabelEncoder\n",
        "\n",
        "df_cat = ['CUMPLE_CON_ALC', 'CUMPLE_CON_COND', 'CUMPLE_CON_SDT_salin', 'CUMPLE_CON_FLUO', \n",
        "          'CUMPLE_CON_DUR', 'CUMPLE_CON_CF', 'CUMPLE_CON_NO3', 'CUMPLE_CON_AS',   \n",
        "          'CUMPLE_CON_CD', 'CUMPLE_CON_CR', 'CUMPLE_CON_HG', 'CUMPLE_CON_PB',       \n",
        "          'CUMPLE_CON_MN', 'CUMPLE_CON_FE']\n",
        "\n"
      ],
      "metadata": {
        "id": "KEhaG01nG6F5"
      },
      "execution_count": null,
      "outputs": []
    },
    {
      "cell_type": "markdown",
      "source": [
        "Realiza un análisis general de las features importances a traves de decision trees o random forest."
      ],
      "metadata": {
        "id": "9dN305BRG-VA"
      }
    },
    {
      "cell_type": "code",
      "source": [],
      "metadata": {
        "id": "4TpZzZ7uHEL2"
      },
      "execution_count": null,
      "outputs": []
    },
    {
      "cell_type": "markdown",
      "source": [
        "Selecciona las variables de mayor importancia."
      ],
      "metadata": {
        "id": "TBHrSvgbG-tA"
      }
    },
    {
      "cell_type": "code",
      "source": [],
      "metadata": {
        "id": "hjaDZ-QHHEiM"
      },
      "execution_count": null,
      "outputs": []
    },
    {
      "cell_type": "markdown",
      "source": [
        "Realiza tu clasificador, recuerda dividir los datos de manera balanceada (auxiliate de train test split)."
      ],
      "metadata": {
        "id": "3XdRCu2gG-8I"
      }
    },
    {
      "cell_type": "code",
      "source": [],
      "metadata": {
        "id": "_OPOmUj4HE-Z"
      },
      "execution_count": null,
      "outputs": []
    },
    {
      "cell_type": "markdown",
      "source": [
        "Explora que clasificador es el más optimo, ejemplo:\n",
        "\n",
        "  * Decision trees\n",
        "  * Random Forest.\n"
      ],
      "metadata": {
        "id": "J5zLMAH6G_MZ"
      }
    },
    {
      "cell_type": "code",
      "source": [],
      "metadata": {
        "id": "xkhWjTavHFZ8"
      },
      "execution_count": null,
      "outputs": []
    },
    {
      "cell_type": "markdown",
      "source": [
        "Determina el grado de exactitud a través del reporte de clasificación y análisis de la gráfica de Precision Recall."
      ],
      "metadata": {
        "id": "uvVdi2H4G_Y6"
      }
    },
    {
      "cell_type": "code",
      "source": [],
      "metadata": {
        "id": "jyu0FZIiHFyb"
      },
      "execution_count": null,
      "outputs": []
    },
    {
      "cell_type": "markdown",
      "source": [
        "Visualiza los resultados del modelo o las predicciones a través de una matriz de confusión."
      ],
      "metadata": {
        "id": "bMUiD6jQG_no"
      }
    },
    {
      "cell_type": "code",
      "source": [],
      "metadata": {
        "id": "gWVUEAISHGJp"
      },
      "execution_count": null,
      "outputs": []
    },
    {
      "cell_type": "markdown",
      "source": [
        "Realiza un reporte de los principales hallazgos y conclusiones del experimento e incluyelos en una presentación ejecutiva de 10 diapositivas. La presentación deberá incluir todos los pasos del pipeline seguidos, limpieza, análisis, kmeans, clasificación, resultados y conclusiones."
      ],
      "metadata": {
        "id": "n1ctn54iG_34"
      }
    }
  ]
}