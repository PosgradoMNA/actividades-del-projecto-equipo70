{
  "nbformat": 4,
  "nbformat_minor": 0,
  "metadata": {
    "colab": {
      "provenance": [],
      "authorship_tag": "ABX9TyN3EoXFQcRnb5o3xoLTj+bp",
      "include_colab_link": true
    },
    "kernelspec": {
      "name": "python3",
      "display_name": "Python 3"
    },
    "language_info": {
      "name": "python"
    }
  },
  "cells": [
    {
      "cell_type": "markdown",
      "metadata": {
        "id": "view-in-github",
        "colab_type": "text"
      },
      "source": [
        "<a href=\"https://colab.research.google.com/github/PosgradoMNA/actividades-del-projecto-equipo70/blob/main/Actividad2_DeProyectoFinal_.ipynb\" target=\"_parent\"><img src=\"https://colab.research.google.com/assets/colab-badge.svg\" alt=\"Open In Colab\"/></a>"
      ]
    },
    {
      "cell_type": "markdown",
      "source": [
        "# Analíticos de refugio de animales en Austin\n",
        "\n",
        "\n",
        "\n",
        "---\n",
        "\n",
        "\n",
        "---\n",
        "\n",
        "\n",
        "Animal Shelter Analytics\n"
      ],
      "metadata": {
        "id": "PIq33c6X7yqu"
      }
    },
    {
      "cell_type": "markdown",
      "source": [
        "## Metodología a utilizar en el proyecto"
      ],
      "metadata": {
        "id": "DBQQCDHB74Hv"
      }
    },
    {
      "cell_type": "markdown",
      "source": [
        "La metodología que se ocupará en el proyecto de\n",
        "<ins>Analíticos de refugio de animales en Ausin</ins> es **CRISP-DM (Cross Industry Standard Process for Data Mining)**.\n",
        "\n",
        "Se hizo una comparación entre las metodologías CRISP-DM, SEMMA y ASUM-DM. Sin embargo, se elegió SEMMA debido a que es una metodología recurrente el proyectos de análisis de datos. Es una metodología que cuenta con documentación variada, para resolver las dudas de las etapas. Tiene un proceso estándar para el análisis de datos y por el tamaño de nuestro proyecto, es lo ideal para que se pueda"
      ],
      "metadata": {
        "id": "TZHAcFhDAsXu"
      }
    },
    {
      "cell_type": "markdown",
      "source": [
        "## Un poco de transfondo"
      ],
      "metadata": {
        "id": "ctow8hz4Fsa4"
      }
    },
    {
      "cell_type": "markdown",
      "source": [],
      "metadata": {
        "id": "z61cAA12FwnQ"
      }
    },
    {
      "cell_type": "markdown",
      "source": [
        "### Etapas de la metodología CRISP-DM"
      ],
      "metadata": {
        "id": "NkPaccXAGZun"
      }
    },
    {
      "cell_type": "markdown",
      "source": [],
      "metadata": {
        "id": "0GpUsu1eGftG"
      }
    },
    {
      "cell_type": "markdown",
      "source": [
        "## Primeras etapas del proyecto"
      ],
      "metadata": {
        "id": "mrj_TK7oGh_9"
      }
    },
    {
      "cell_type": "markdown",
      "source": [
        "### Business Understanding"
      ],
      "metadata": {
        "id": "cp7dar9nGl9B"
      }
    },
    {
      "cell_type": "markdown",
      "source": [
        "### Data Understanding"
      ],
      "metadata": {
        "id": "OcOumJAYLFxk"
      }
    }
  ]
}