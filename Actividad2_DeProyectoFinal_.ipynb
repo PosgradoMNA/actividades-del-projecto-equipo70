{
  "nbformat": 4,
  "nbformat_minor": 0,
  "metadata": {
    "colab": {
      "provenance": [],
      "authorship_tag": "ABX9TyN/5gmAMQ+yJqdj+bnz6wBL",
      "include_colab_link": true
    },
    "kernelspec": {
      "name": "python3",
      "display_name": "Python 3"
    },
    "language_info": {
      "name": "python"
    }
  },
  "cells": [
    {
      "cell_type": "markdown",
      "metadata": {
        "id": "view-in-github",
        "colab_type": "text"
      },
      "source": [
        "<a href=\"https://colab.research.google.com/github/PosgradoMNA/actividades-del-projecto-equipo70/blob/main/Actividad2_DeProyectoFinal_.ipynb\" target=\"_parent\"><img src=\"https://colab.research.google.com/assets/colab-badge.svg\" alt=\"Open In Colab\"/></a>"
      ]
    },
    {
      "cell_type": "markdown",
      "source": [
        "# Analíticos de refugio de animales en Austin\n",
        "\n",
        "\n",
        "\n",
        "---\n",
        "\n",
        "\n",
        "---\n",
        "\n",
        "\n",
        "Animal Shelter Analytics\n"
      ],
      "metadata": {
        "id": "PIq33c6X7yqu"
      }
    },
    {
      "cell_type": "markdown",
      "source": [
        "## Metodología a utilizar en el proyecto"
      ],
      "metadata": {
        "id": "DBQQCDHB74Hv"
      }
    },
    {
      "cell_type": "markdown",
      "source": [
        "La metodología que se ocupará en el proyecto de\n",
        "<ins>Analíticos de refugio de animales en Ausin</ins> es **CRISP-DM (Cross Industry Standard Process for Data Mining)**.\n",
        "\n",
        "Se hizo una comparación entre las metodologías CRISP-DM, SEMMA y ASUM-DM. Sin embargo, se elegió SEMMA debido a que es una metodología recurrente el proyectos de análisis de datos. Es una metodología que cuenta con documentación variada, para resolver las dudas de las etapas. Tiene un proceso estándar para el análisis de datos y por el tamaño de nuestro proyecto, es lo ideal para avanzar en el ciclo de análisis de datos de una manera eficiente. El equipo tiene transfondo de desarrollo de software, esta metodología nos recordó a la metodología Agile para el manejo del ciclo del software, por lo tanto al ser familiar, es posible que nos adaptemos más a la metodología. "
      ],
      "metadata": {
        "id": "TZHAcFhDAsXu"
      }
    },
    {
      "cell_type": "markdown",
      "source": [
        "## Un poco de transfondo"
      ],
      "metadata": {
        "id": "ctow8hz4Fsa4"
      }
    },
    {
      "cell_type": "markdown",
      "source": [
        "La metodología **CRISP-DM (Cross Industry Standard Process for Data Mining)**, es un proceso de modelado que sirve como base para el ciclo de ciencia de datos. Fue publicado en 1999 para estandarizar el proceso de minería de datos entre industrias. Desde ese momento se ha convertido en la metodología más común para la minería de datos, analíticos y proyectos de ciencia de datos. Una interesante discución es si CRISP-DM se considera como Agile o en cascada. Algunos mencionan que es flexible como Agile, otros que es un poco más rígido como en cascada, sin embargo, la metodología es como se implementa en el proyecto. CRISP-DM es ideal para empezar a entender el proceso general de ciencia de datos. Es un modelo que enfoca a los desarrolladores a enfocarse en las metas del negocio, así asegurar el éxito de la compañía. La metodología CRISP-DM  es un modelo iterativo, para ofrecer oportunidades de refinamiento y conducir si se está alejando de la meta central original. Hace uso de las herramientas tecnológicas de minería de datos. Por lo cuál, el equipo eligió esa metodología, para encarar al proyecto de analítica de datos. "
      ],
      "metadata": {
        "id": "z61cAA12FwnQ"
      }
    },
    {
      "cell_type": "markdown",
      "source": [
        "### Etapas de la metodología CRISP-DM"
      ],
      "metadata": {
        "id": "NkPaccXAGZun"
      }
    },
    {
      "cell_type": "markdown",
      "source": [
        "**CRISP-DM (Cross Industry Standard Process for Data Mining)** cuenta con seis etapas secuenciales:\n",
        "\n",
        "1. **Entendimiento del negocio**.\n",
        "\n",
        "* ¿Qué es lo que el negocio necesita? Primero es necesario entender a fondo desde la perspectiva de negocio, qué es lo que el cliente quiere cumplir. Y de ahí se define el criterio de negocio. \n",
        "\n",
        "* Se centra en el entendimiento de los objetivos del proyecto y requerimientos desde un punto de vista de negocio. \n",
        "\n",
        "* El análisis formula este conocimiento como un problema de minería de datos y desarrolla un plan preliminar.\n",
        "\n",
        "<ins>Pasos de la fase.</ins> \n",
        "* Determinar los objetivos del negocio.\n",
        "\n",
        "* Evaluar la situación. \n",
        "\n",
        "* Determinar las metas de la minería de datos. \n",
        "\n",
        "* Producir un plan de proyecto. \n",
        "\n",
        "\n",
        "2. **Entendimiento de los datos**. \n",
        "\n",
        "* ¿Qué es lo que los datos que tenemos necesitan? ¿Está limpio el registro de datos?\n",
        "\n",
        "* Inicia con una colección de datos, el análisis procede con actividades para familiarizarse con los datos, identificar la calidad de los datos y descubrir las perspectivas. \n",
        "\n",
        "* En esta fase, los análisis pueden también detectar subconjuntos para formar una hipótesis de información escondida. \n",
        "\n",
        "<ins>Pasos de la fase.</ins> \n",
        "* Recolectar los datos iniciales.\n",
        "\n",
        "* Describir los datos.\n",
        "\n",
        "* Explorar los datos.\n",
        "\n",
        "* Verificar la calidad de los datos. \n",
        "\n",
        "\n",
        "3. **Preparación de los datos**. \n",
        "\n",
        "* ¿Cómo organizamos los datos para el modelado?\n",
        "\n",
        "* La fase de preparación de datos cubre todas las actividades para construir el conjunto de datos final desde el conjunto de datos sin procesar.\n",
        "\n",
        "* Amenudo, esta es la tarea más larga. Pero, el no hacerla, resultará en un ánalisi de datos sucios. Una práctica común durante está fase es corregir, añadir o remover valores erroneos. \n",
        "\n",
        "\n",
        "<ins>Pasos de la fase.</ins> \n",
        "* Seleccionar los datos. \n",
        "\n",
        "* Limpiar los datos. \n",
        "\n",
        "* Construir los datos. \n",
        "\n",
        "* Integrar los datos. \n",
        "\n",
        "* Dar formato a los datos. \n",
        "\n",
        "4. **Modelado**. \n",
        "\n",
        "* Qué técnicas de modelado deberíamos de aplicar?\n",
        "\n",
        "* El análisis evalúa, selecciona y aplica las técnicas apropiadas de modelado. Algunas técnicas tienen requerimientos específicos respecto a la estructura de los datos, por lo tanto, se puede regresar a la etapa de preparación.\n",
        "\n",
        "* Determinar cuáles algoritmos se intentará, por ejemplo, redes neuronales, regresión lineal o más. \n",
        "\n",
        "<ins>Pasos de la fase.</ins> \n",
        "* Selecionar técnicas de modelado.\n",
        "\n",
        "* Generar diseño de pruebas. \n",
        "\n",
        "* Construir el modelo. \n",
        "\n",
        "* Evaluar el modelo. \n",
        "\n",
        "5. **Evaluación**. \n",
        "\n",
        "* ¿Qué modelo es el mejor que cumple con los objetivos del negocio?\n",
        "\n",
        "* El análisis construye y elige los modelos que aparentemente tienen una alta calidad, con base a las funciones que fueron selecionadas. \n",
        "\n",
        "* El análisis valida que el modelo cubre todos los problemas del negocio. El resultado final es la selección del modelo ganador.\n",
        "\n",
        "<ins>Pasos de la fase.</ins> \n",
        "* Evaluar los resultados. \n",
        "\n",
        "* Revisar el proceso. \n",
        "\n",
        "* Determinar los siguientes pasos.\n",
        "\n",
        "\n",
        "6. **Despliegue**. \n",
        "\n",
        "* ¿Cómo las partes interesadas acceden a los resultados?\n",
        "\n",
        "* Significa el despliegue de la representación del código del modelo en un sistema operativo. Esto incluye el mecanismo para anotar o categorizar nuevos datos que no se han visto, como vayan saliendo. \n",
        "\n",
        "* Es importante recalcar, que la representación hecha código debe también incluir toda la preparación del conjunto de datos conduciendo al modelo. Esto asegura que el modelo tratará un cojunto de datos sin procesar en la misma manera durante su desarrollo del modelo.\n",
        "\n",
        "<ins>Pasos de la fase.</ins> \n",
        "\n",
        "* Plan de despliegue. \n",
        "\n",
        "\n",
        "* Plan de monitoreo y mantenimiento.\n",
        "\n",
        "\n",
        "* Producir el reporte final. \n",
        "\n",
        "\n",
        "* Revisar el proyecto.\n"
      ],
      "metadata": {
        "id": "0GpUsu1eGftG"
      }
    },
    {
      "cell_type": "markdown",
      "source": [
        "Imagen.\n",
        "\n",
        "\n",
        "https://miro.com/app/board/uXjVPTwuXKQ=/?share_link_id=683101575135"
      ],
      "metadata": {
        "id": "ETtJMqpE81cu"
      }
    }
  ]
}