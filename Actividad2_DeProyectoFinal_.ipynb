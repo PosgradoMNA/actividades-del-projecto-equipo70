{
  "nbformat": 4,
  "nbformat_minor": 0,
  "metadata": {
    "colab": {
      "provenance": [],
      "authorship_tag": "ABX9TyPiYWXsyV4G84dEaX3FHVXL",
      "include_colab_link": true
    },
    "kernelspec": {
      "name": "python3",
      "display_name": "Python 3"
    },
    "language_info": {
      "name": "python"
    }
  },
  "cells": [
    {
      "cell_type": "markdown",
      "metadata": {
        "id": "view-in-github",
        "colab_type": "text"
      },
      "source": [
        "<a href=\"https://colab.research.google.com/github/PosgradoMNA/actividades-del-projecto-equipo70/blob/main/Actividad2_DeProyectoFinal_.ipynb\" target=\"_parent\"><img src=\"https://colab.research.google.com/assets/colab-badge.svg\" alt=\"Open In Colab\"/></a>"
      ]
    },
    {
      "cell_type": "markdown",
      "source": [
        "# Analíticos de refugio de animales en Austin\n",
        "\n",
        "\n",
        "\n",
        "---\n",
        "\n",
        "\n",
        "---\n",
        "\n",
        "\n",
        "Animal Shelter Analytics\n"
      ],
      "metadata": {
        "id": "PIq33c6X7yqu"
      }
    },
    {
      "cell_type": "markdown",
      "source": [
        "## Metodología a utilizar en el proyecto"
      ],
      "metadata": {
        "id": "DBQQCDHB74Hv"
      }
    },
    {
      "cell_type": "markdown",
      "source": [
        "La metodología que se ocupará en el proyecto de\n",
        "<ins>Analíticos de refugio de animales en Ausin</ins> es **CRISP-DM (Cross Industry Standard Process for Data Mining)**.\n",
        "\n",
        "Se hizo una comparación entre las metodologías CRISP-DM, SEMMA y ASUM-DM. Sin embargo, se elegió SEMMA debido a que es una metodología recurrente el proyectos de análisis de datos. Es una metodología que cuenta con documentación variada, para resolver las dudas de las etapas. Tiene un proceso estándar para el análisis de datos y por el tamaño de nuestro proyecto, es lo ideal para avanzar en el ciclo de análisis de datos de una manera eficiente. El equipo tiene transfondo de desarrollo de software, esta metodología nos recordó a la metodología Agile para el manejo del ciclo del software, por lo tanto al ser familiar, es posible que nos adaptemos más a la metodología. "
      ],
      "metadata": {
        "id": "TZHAcFhDAsXu"
      }
    },
    {
      "cell_type": "markdown",
      "source": [
        "## Un poco de transfondo"
      ],
      "metadata": {
        "id": "ctow8hz4Fsa4"
      }
    },
    {
      "cell_type": "markdown",
      "source": [
        "La metodología **CRISP-DM (Cross Industry Standard Process for Data Mining)**, es un proceso de modelado que sirve como base para el ciclo de ciencia de datos. Fue publicado en 1999 para estandarizar el proceso de minería de datos entre industrias. Desde ese momento se ha convertido en la metodología más común para la minería de datos, analíticos y proyectos de ciencia de datos. Una interesante discución es si CRISP-DM se considera como Agile o en cascada. Algunos mencionan que es flexible como Agile, otros que es un poco más rígido como en cascada, sin embargo, la metodología es como se implementa en el proyecto. CRISP-DM es ideal para empezar a entender el proceso general de ciencia de datos. Por lo cuál, el equipo eligió esa metodología, para encarar al proyecto de analítica de datos. "
      ],
      "metadata": {
        "id": "z61cAA12FwnQ"
      }
    },
    {
      "cell_type": "markdown",
      "source": [
        "### Etapas de la metodología CRISP-DM"
      ],
      "metadata": {
        "id": "NkPaccXAGZun"
      }
    },
    {
      "cell_type": "markdown",
      "source": [
        "CRISP-DM (Cross Industry Standard Process for Data Mining) cuenta con seis etapas secuenciales:\n",
        "\n",
        "1. **Entendimiento del negocio**.\n",
        "\n",
        "<ins>Pregunta clave: </ins> \n",
        "<ins>¿Qué es lo que el negocio necesita?</ins> \n",
        "\n",
        "Se centra en el entendimiento de los objetivos del proyecto y requerimientos desde un punto de vista de negocio. El análisis formula este conocimiento como un problema de minería de datos y desarrolla un plan preliminar. \n",
        "\n",
        "2. **Entendimiento de los datos**. \n",
        "\n",
        "<ins>Pregunta clave: </ins> \n",
        "<ins>¿Qué es lo que los datos que tenemos necesitan? ¿Está limpio el registro de datos?</ins> \n",
        "\n",
        "Inicia con una colección de datos, el análisis procede con actividades para familiarizarse con los datos, identificar la calidad de los datos y descubrir las perspectivas. En esta fase, los análisis pueden también detectar subconjuntos para formar una hipótesis de información escondida. \n",
        "\n",
        "\n",
        "3. **Preparación de los datos**. \n",
        "\n",
        "<ins>Pregunta clave</ins> \n",
        "<ins>¿Cómo organizamos los datos para el modelado?</ins> \n",
        "\n",
        "La fase de preparación de datos cubre todas las actividades para construir el conjunto de datos final desde el conjunto de datos sin procesar. \n",
        "\n",
        "4. **Modelado**. \n",
        "\n",
        "<ins>Pregunta clave</ins>\n",
        "<ins>¿Qué técnicas de modelado deberíamos de aplicar?</ins> \n",
        "\n",
        "El análisis contruye y escoge modelos \n",
        "\n",
        "5. **Evaluación**. \n",
        "\n",
        "<ins>Pregunta clave</ins> \n",
        "<ins>¿Qué modelo es el mejor que cumple con los objetivos del negocio?</ins> \n",
        "\n",
        "6. **Despliegue**. \n",
        "\n",
        "<ins>Pregunta clave</ins>\n",
        "<ins>¿Cómo las partes interesadas acceden a los resultados?</ins>\n",
        "\n"
      ],
      "metadata": {
        "id": "0GpUsu1eGftG"
      }
    },
    {
      "cell_type": "markdown",
      "source": [
        "## Primeras etapas del proyecto"
      ],
      "metadata": {
        "id": "mrj_TK7oGh_9"
      }
    },
    {
      "cell_type": "markdown",
      "source": [
        "### Business Understanding"
      ],
      "metadata": {
        "id": "cp7dar9nGl9B"
      }
    },
    {
      "cell_type": "markdown",
      "source": [
        "### Data Understanding"
      ],
      "metadata": {
        "id": "OcOumJAYLFxk"
      }
    }
  ]
}