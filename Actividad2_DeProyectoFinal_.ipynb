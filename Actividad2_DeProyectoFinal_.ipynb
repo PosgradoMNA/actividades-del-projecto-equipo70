{
  "nbformat": 4,
  "nbformat_minor": 0,
  "metadata": {
    "colab": {
      "provenance": [],
      "authorship_tag": "ABX9TyOwJ6fQiM7trmSBaY74pySL",
      "include_colab_link": true
    },
    "kernelspec": {
      "name": "python3",
      "display_name": "Python 3"
    },
    "language_info": {
      "name": "python"
    }
  },
  "cells": [
    {
      "cell_type": "markdown",
      "metadata": {
        "id": "view-in-github",
        "colab_type": "text"
      },
      "source": [
        "<a href=\"https://colab.research.google.com/github/PosgradoMNA/actividades-del-projecto-equipo70/blob/main/Actividad2_DeProyectoFinal_.ipynb\" target=\"_parent\"><img src=\"https://colab.research.google.com/assets/colab-badge.svg\" alt=\"Open In Colab\"/></a>"
      ]
    },
    {
      "cell_type": "markdown",
      "source": [
        "# Analíticos de refugio de animales en Austin\n",
        "\n",
        "\n",
        "\n",
        "---\n",
        "\n",
        "\n",
        "---\n",
        "\n",
        "\n",
        "Animal Shelter Analytics\n"
      ],
      "metadata": {
        "id": "PIq33c6X7yqu"
      }
    },
    {
      "cell_type": "markdown",
      "source": [
        "## Metodología a utilizar en el proyecto"
      ],
      "metadata": {
        "id": "DBQQCDHB74Hv"
      }
    },
    {
      "cell_type": "markdown",
      "source": [
        "La metodología que se ocupará en el proyecto de\n",
        "<ins>Analíticos de refugio de animales en Ausin</ins> es **CRISP-DM (Cross Industry Standard Process for Data Mining)**.\n",
        "\n",
        "Se hizo una comparación entre las metodologías CRISP-DM, SEMMA y ASUM-DM. Sin embargo, se elegió SEMMA debido a que es una metodología recurrente el proyectos de análisis de datos. Es una metodología que cuenta con documentación variada, para resolver las dudas de las etapas. Tiene un proceso estándar para el análisis de datos y por el tamaño de nuestro proyecto, es lo ideal para avanzar en el ciclo de análisis de datos de una manera eficiente. El equipo tiene transfondo de desarrollo de software, esta metodología nos recordó a la metodología Agile para el manejo del ciclo del software, por lo tanto al ser familiar, es posible que nos adaptemos más a la metodología. "
      ],
      "metadata": {
        "id": "TZHAcFhDAsXu"
      }
    },
    {
      "cell_type": "markdown",
      "source": [
        "## Un poco de transfondo"
      ],
      "metadata": {
        "id": "ctow8hz4Fsa4"
      }
    },
    {
      "cell_type": "markdown",
      "source": [
        "La metodología **CRISP-DM (Cross Industry Standard Process for Data Mining)**, es un proceso de modelado que sirve como base para el ciclo de ciencia de datos. Fue publicado en 1999 para estandarizar el proceso de minería de datos entre industrias. Desde ese momento se ha convertido en la metodología más común para la minería de datos, analíticos y proyectos de ciencia de datos. Una interesante discución es si CRISP-DM se considera como Agile o en cascada. Algunos mencionan que es flexible como Agile, otros que es un poco más rígido como en cascada, sin embargo, la metodología es como se implementa en el proyecto. CRISP-DM es ideal para empezar a entender el proceso general de ciencia de datos. Por lo cuál, el equipo eligió esa metodología, para encarar al proyecto de analítica de datos. "
      ],
      "metadata": {
        "id": "z61cAA12FwnQ"
      }
    },
    {
      "cell_type": "markdown",
      "source": [
        "### Etapas de la metodología CRISP-DM"
      ],
      "metadata": {
        "id": "NkPaccXAGZun"
      }
    },
    {
      "cell_type": "markdown",
      "source": [
        "CRISP-DM (Cross Industry Standard Process for Data Mining) cuenta con seis etapas secuenciales:\n",
        "\n",
        "1. Entendimiento del negocio.\n",
        "\n",
        "\n",
        "\n",
        "2. Entendimiento de los datos. \n",
        "\n",
        "\n",
        "\n",
        "\n",
        "\n",
        "3. Preparación de los datos. \n",
        "\n",
        "\n",
        "\n",
        "\n",
        "\n",
        "4. Modelado. \n",
        "\n",
        "\n",
        "\n",
        "\n",
        "\n",
        "5. Evaluación. \n",
        "\n",
        "\n",
        "\n",
        "\n",
        "\n",
        "6. Despliegue. \n",
        "\n",
        "\n",
        "\n",
        "\n"
      ],
      "metadata": {
        "id": "0GpUsu1eGftG"
      }
    },
    {
      "cell_type": "markdown",
      "source": [
        "## Primeras etapas del proyecto"
      ],
      "metadata": {
        "id": "mrj_TK7oGh_9"
      }
    },
    {
      "cell_type": "markdown",
      "source": [
        "### Business Understanding"
      ],
      "metadata": {
        "id": "cp7dar9nGl9B"
      }
    },
    {
      "cell_type": "markdown",
      "source": [
        "### Data Understanding"
      ],
      "metadata": {
        "id": "OcOumJAYLFxk"
      }
    }
  ]
}